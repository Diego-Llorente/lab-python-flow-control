{
 "cells": [
  {
   "cell_type": "markdown",
   "id": "d3bfc191-8885-42ee-b0a0-bbab867c6f9f",
   "metadata": {
    "tags": []
   },
   "source": [
    "# Lab | Flow Control"
   ]
  },
  {
   "cell_type": "markdown",
   "id": "3851fcd1-cf98-4653-9c89-e003b7ec9400",
   "metadata": {},
   "source": [
    "## Exercise: Managing Customer Orders Optimized\n",
    "\n",
    "In the last lab, you were starting an online store that sells various products. To ensure smooth operations, you developed a program that manages customer orders and inventory.\n",
    "\n",
    "You did so without using flow control. Let's go a step further and improve this code.\n",
    "\n",
    "Follow the steps below to complete the exercise:\n",
    "\n",
    "1. Look at your code from the lab data structures, and improve repeated code with loops.\n",
    "\n",
    "2. Instead of asking the user to input the name of three products that a customer wants to order, do the following:\n",
    "    \n",
    "    a. Prompt the user to enter the name of a product that a customer wants to order.\n",
    "    \n",
    "    b. Add the product name to the \"customer_orders\" set.\n",
    "    \n",
    "    c. Ask the user if they want to add another product (yes/no).\n",
    "    \n",
    "    d. Continue the loop until the user does not want to add another product.\n",
    "\n",
    "3. Instead of updating the inventory by subtracting 1 from the quantity of each product, only do it for  the products that were ordered (those in \"customer_orders\")."
   ]
  },
  {
   "cell_type": "code",
   "execution_count": 1,
   "id": "ba61eabb",
   "metadata": {},
   "outputs": [],
   "source": [
    "products = [\"t-shirt\", \"mug\", \"hat\", \"book\", \"keychain\"]"
   ]
  },
  {
   "cell_type": "code",
   "execution_count": 2,
   "id": "f6a919d5",
   "metadata": {},
   "outputs": [],
   "source": [
    "inventory = {}"
   ]
  },
  {
   "cell_type": "code",
   "execution_count": 3,
   "id": "e35a0b52",
   "metadata": {},
   "outputs": [
    {
     "name": "stdout",
     "output_type": "stream",
     "text": [
      "Please enter the available quantity of t-shirt: 50\n",
      "Please enter the available quantity of mug: 50\n",
      "Please enter the available quantity of hat: 50\n",
      "Please enter the available quantity of book: 50\n",
      "Please enter the available quantity of keychain: 50\n",
      "{'t-shirt': 50, 'mug': 50, 'hat': 50, 'book': 50, 'keychain': 50}\n"
     ]
    }
   ],
   "source": [
    "for product in products:\n",
    "    quantity = int(input(f\"Please enter the available quantity of {product}: \"))\n",
    "    inventory[product] = quantity\n",
    "\n",
    "print(inventory)"
   ]
  },
  {
   "cell_type": "code",
   "execution_count": 4,
   "id": "6150389e",
   "metadata": {},
   "outputs": [],
   "source": [
    "customer_orders = set()"
   ]
  },
  {
   "cell_type": "code",
   "execution_count": 5,
   "id": "a131bb46",
   "metadata": {},
   "outputs": [
    {
     "name": "stdout",
     "output_type": "stream",
     "text": [
      "Please enter the product you want to order: t-shirt\n",
      "Would you like to add another product? yes/no:yes\n",
      "Please enter the product's name: keychain\n",
      "Would you like to add another product? yes/no:yes\n",
      "Please enter the product's name: hat\n",
      "Would you like to add another product? yes/no:yes\n",
      "Please enter the product's name: mug\n",
      "Would you like to add another product? yes/no:no\n"
     ]
    }
   ],
   "source": [
    "#print(\"Please enter the name of the products the client wants to order.\")\n",
    "\n",
    "add_order = True\n",
    "\n",
    "customer_order = input(\"Please enter the product you want to order: \")\n",
    "\n",
    "customer_orders.add(customer_order)\n",
    "\n",
    "while add_order == True:\n",
    "\n",
    "        keep_going = input(\"Would you like to add another product? yes/no:\" )\n",
    "        if keep_going == \"yes\":\n",
    "            customer_order = input(f\"Please enter the product's name: \")\n",
    "            customer_orders.add(customer_order)\n",
    "        else:\n",
    "            add_order = False\n",
    "            "
   ]
  },
  {
   "cell_type": "code",
   "execution_count": 6,
   "id": "d91d8110",
   "metadata": {},
   "outputs": [
    {
     "name": "stdout",
     "output_type": "stream",
     "text": [
      "{'mug', 'hat', 'keychain', 't-shirt'}\n"
     ]
    }
   ],
   "source": [
    "print(customer_orders)"
   ]
  },
  {
   "cell_type": "code",
   "execution_count": 7,
   "id": "09deb6b6",
   "metadata": {},
   "outputs": [
    {
     "name": "stdout",
     "output_type": "stream",
     "text": [
      "4\n",
      "5\n",
      "80.0\n",
      "(4, 80.0)\n"
     ]
    }
   ],
   "source": [
    "total_products_ordered = len(customer_orders)\n",
    "print(total_products_ordered)\n",
    "percentage_ordered = (total_products_ordered/len(products))*100\n",
    "print(len(products))\n",
    "print(percentage_ordered)\n",
    "order_status = (total_products_ordered, percentage_ordered)\n",
    "print(order_status)"
   ]
  },
  {
   "cell_type": "code",
   "execution_count": 8,
   "id": "db2bdac9",
   "metadata": {},
   "outputs": [
    {
     "name": "stdout",
     "output_type": "stream",
     "text": [
      "Order Statistics:\n",
      "Total products ordered: 4\n",
      "Percentage of products ordered: 80.0%\n"
     ]
    }
   ],
   "source": [
    "print(\"Order Statistics:\")\n",
    "print(f\"Total products ordered: {order_status[0]}\")\n",
    "print(f\"Percentage of products ordered: {order_status[1]}%\")"
   ]
  },
  {
   "cell_type": "code",
   "execution_count": 9,
   "id": "4ebd5ab9",
   "metadata": {},
   "outputs": [
    {
     "name": "stdout",
     "output_type": "stream",
     "text": [
      "{'t-shirt': 49, 'mug': 49, 'hat': 49, 'book': 50, 'keychain': 49}\n"
     ]
    }
   ],
   "source": [
    "for product in customer_orders:\n",
    "    inventory[product] -=1\n",
    "    \n",
    "print(inventory)"
   ]
  },
  {
   "cell_type": "code",
   "execution_count": 10,
   "id": "527ce3ca",
   "metadata": {},
   "outputs": [
    {
     "name": "stdout",
     "output_type": "stream",
     "text": [
      "The product t-shirt has a stock of: 49\n",
      "The product mug has a stock of: 49\n",
      "The product hat has a stock of: 49\n",
      "The product book has a stock of: 50\n",
      "The product keychain has a stock of: 49\n"
     ]
    }
   ],
   "source": [
    "for product, quantity in inventory.items():\n",
    "    print(f\"The product {product} has a stock of: {quantity}\")"
   ]
  }
 ],
 "metadata": {
  "kernelspec": {
   "display_name": "Python 3 (ipykernel)",
   "language": "python",
   "name": "python3"
  },
  "language_info": {
   "codemirror_mode": {
    "name": "ipython",
    "version": 3
   },
   "file_extension": ".py",
   "mimetype": "text/x-python",
   "name": "python",
   "nbconvert_exporter": "python",
   "pygments_lexer": "ipython3",
   "version": "3.11.7"
  }
 },
 "nbformat": 4,
 "nbformat_minor": 5
}
